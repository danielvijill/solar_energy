{
  "nbformat": 4,
  "nbformat_minor": 0,
  "metadata": {
    "colab": {
      "provenance": [],
      "authorship_tag": "ABX9TyOi0S8oJ7wgTEJnfT99KuFY",
      "include_colab_link": true
    },
    "kernelspec": {
      "name": "python3",
      "display_name": "Python 3"
    },
    "language_info": {
      "name": "python"
    }
  },
  "cells": [
    {
      "cell_type": "markdown",
      "metadata": {
        "id": "view-in-github",
        "colab_type": "text"
      },
      "source": [
        "<a href=\"https://colab.research.google.com/github/danielvijill/solar_energy/blob/main/geosite_temperature_prediction_model.ipynb\" target=\"_parent\"><img src=\"https://colab.research.google.com/assets/colab-badge.svg\" alt=\"Open In Colab\"/></a>"
      ]
    },
    {
      "cell_type": "code",
      "execution_count": 1,
      "metadata": {
        "id": "8VlGQmqJ-1bi"
      },
      "outputs": [],
      "source": [
        "import pandas as pd\n",
        "import numpy as np\n",
        "import tensorflow as tf"
      ]
    },
    {
      "cell_type": "code",
      "source": [
        "from google.colab import drive\n",
        "drive.mount('/content/drive')"
      ],
      "metadata": {
        "colab": {
          "base_uri": "https://localhost:8080/"
        },
        "id": "lBiOL5Qu_BxK",
        "outputId": "6b066925-2640-4b7f-d125-4d34e5b9713e"
      },
      "execution_count": 3,
      "outputs": [
        {
          "output_type": "stream",
          "name": "stdout",
          "text": [
            "Mounted at /content/drive\n"
          ]
        }
      ]
    },
    {
      "cell_type": "code",
      "source": [
        "folder_path = '/content/drive/MyDrive/Colab Notebooks'"
      ],
      "metadata": {
        "id": "t5yqFM3w_ECm"
      },
      "execution_count": 4,
      "outputs": []
    },
    {
      "cell_type": "code",
      "source": [
        "csv_file_path = f'{folder_path}/sites.csv'\n",
        "df = pd.read_csv(csv_file_path)\n",
        "print(df.head())"
      ],
      "metadata": {
        "colab": {
          "base_uri": "https://localhost:8080/"
        },
        "id": "ZAg6B1gx_KBY",
        "outputId": "413d13b7-1374-49d2-8fa0-7b0b65fd1b11"
      },
      "execution_count": 5,
      "outputs": [
        {
          "output_type": "stream",
          "name": "stdout",
          "text": [
            "  ID  Nombre                Cuadrante Departamento Coordenadas UTM Grid  \\\n",
            "0  1     NaN                ARAMECINA    F MORAZAN                44/11   \n",
            "1  2     NaN                ARAMECINA    F MORAZAN                45/14   \n",
            "2  3     NaN                   ARENAL         YORO              100/051   \n",
            "3  4     NaN  AZACUALPA-RIO GUAYAMBRE      OLANCHO                99/00   \n",
            "4  5     NaN  AZACUALPA-RIO GUAYAMBRE      OLANCHO                00/99   \n",
            "\n",
            "   Latitud  Longitud  Temperatura Min  Temperatura Max  \n",
            "0   13.670   -87.509              NaN              NaN  \n",
            "1   13.707   -87.507              NaN              NaN  \n",
            "2   15.422   -86.883             61.0             67.0  \n",
            "3   14.546   -85.992              NaN              NaN  \n",
            "4   14.505   -85.971              NaN              NaN  \n"
          ]
        }
      ]
    },
    {
      "cell_type": "code",
      "source": [
        "# Filter the DataFrame into two sets: one with known temperatures and one with unknown temperatures\n",
        "df_known = df.dropna(subset=['Temperatura Max'])\n",
        "df_known = df_known.dropna(subset=['Latitud'])\n",
        "df_known = df_known.dropna(subset=['Longitud'])\n",
        "df_unknown = df[df['Temperatura Max'].isna()]\n",
        "\n",
        "# Define the features (input) and target (output) for the known data\n",
        "X_train = df_known[['Latitud', 'Longitud']].values\n",
        "y_train = df_known['Temperatura Max'].values\n",
        "\n",
        "# Define the features (input) for the unknown data (we will predict the target for these)\n",
        "X_predict = df_unknown[['Latitud', 'Longitud']].values"
      ],
      "metadata": {
        "id": "fW8Ei4nT_L2J"
      },
      "execution_count": 20,
      "outputs": []
    },
    {
      "cell_type": "code",
      "source": [
        "# Create a simple TensorFlow model (a feedforward neural network)\n",
        "model = tf.keras.Sequential([\n",
        "    tf.keras.layers.Dense(64, activation='relu', input_shape=(2,)),\n",
        "    tf.keras.layers.Dense(64, activation='relu'),\n",
        "    tf.keras.layers.Dense(1) # Output layer for temperature prediction\n",
        "])\n",
        "\n",
        "# Compile the model\n",
        "model.compile(optimizer='adam', loss='mse') # Using Mean Squared Error as loss\n",
        "\n",
        "# Train the model\n",
        "model.fit(X_train, y_train, epochs=100, verbose=0)\n",
        "\n",
        "# Predict the temperatures for the unknown data\n",
        "predicted_temperatures = model.predict(X_predict)"
      ],
      "metadata": {
        "colab": {
          "base_uri": "https://localhost:8080/"
        },
        "id": "HAotVE_uAtTt",
        "outputId": "c1e81686-e56b-4b6f-fac1-39295e6aadad"
      },
      "execution_count": 23,
      "outputs": [
        {
          "output_type": "stream",
          "name": "stderr",
          "text": [
            "/usr/local/lib/python3.11/dist-packages/keras/src/layers/core/dense.py:87: UserWarning: Do not pass an `input_shape`/`input_dim` argument to a layer. When using Sequential models, prefer using an `Input(shape)` object as the first layer in the model instead.\n",
            "  super().__init__(activity_regularizer=activity_regularizer, **kwargs)\n"
          ]
        },
        {
          "output_type": "stream",
          "name": "stdout",
          "text": [
            "\u001b[1m4/4\u001b[0m \u001b[32m━━━━━━━━━━━━━━━━━━━━\u001b[0m\u001b[37m\u001b[0m \u001b[1m0s\u001b[0m 17ms/step\n"
          ]
        }
      ]
    },
    {
      "cell_type": "code",
      "source": [
        "# Create a copy of the original DataFrame\n",
        "df_predicted = df.copy()\n",
        "\n",
        "# Update the 'Temperatura Max' column in the copied DataFrame with the predicted values\n",
        "# Ensure that the indexing aligns between df_unknown and the predicted_temperatures\n",
        "df_predicted.loc[df_unknown.index, 'Temperatura Max'] = predicted_temperatures.flatten()\n",
        "\n",
        "# Print the updated DataFrame head to see the estimated temperatures\n",
        "print(\"\\nDataFrame with estimated temperatures:\")\n",
        "print(df_predicted.head())"
      ],
      "metadata": {
        "colab": {
          "base_uri": "https://localhost:8080/"
        },
        "id": "VHGCY6WVBLr1",
        "outputId": "93100d3e-be23-474b-fefd-13d50601a4b3"
      },
      "execution_count": 24,
      "outputs": [
        {
          "output_type": "stream",
          "name": "stdout",
          "text": [
            "\n",
            "DataFrame with estimated temperatures:\n",
            "  ID  Nombre                Cuadrante Departamento Coordenadas UTM Grid  \\\n",
            "0  1     NaN                ARAMECINA    F MORAZAN                44/11   \n",
            "1  2     NaN                ARAMECINA    F MORAZAN                45/14   \n",
            "2  3     NaN                   ARENAL         YORO              100/051   \n",
            "3  4     NaN  AZACUALPA-RIO GUAYAMBRE      OLANCHO                99/00   \n",
            "4  5     NaN  AZACUALPA-RIO GUAYAMBRE      OLANCHO                00/99   \n",
            "\n",
            "   Latitud  Longitud  Temperatura Min  Temperatura Max  \n",
            "0   13.670   -87.509              NaN        56.418564  \n",
            "1   13.707   -87.507              NaN        56.425591  \n",
            "2   15.422   -86.883             61.0        67.000000  \n",
            "3   14.546   -85.992              NaN        55.691650  \n",
            "4   14.505   -85.971              NaN        55.669754  \n"
          ]
        }
      ]
    },
    {
      "cell_type": "code",
      "source": [
        "# print(np.isnan(X_train).sum(), np.isinf(X_train).sum())\n",
        "# print(np.isnan(y_train).sum(), np.isinf(y_train).sum())"
      ],
      "metadata": {
        "colab": {
          "base_uri": "https://localhost:8080/"
        },
        "id": "aUXbEeKyB_MY",
        "outputId": "3fa00509-014c-4348-fec6-3dce06f385c0"
      },
      "execution_count": 21,
      "outputs": [
        {
          "output_type": "stream",
          "name": "stdout",
          "text": [
            "0 0\n",
            "0 0\n"
          ]
        }
      ]
    },
    {
      "cell_type": "code",
      "source": [
        "# print(np.isnan(X_predict).sum(), np.isinf(X_predict).sum())"
      ],
      "metadata": {
        "colab": {
          "base_uri": "https://localhost:8080/"
        },
        "id": "t4bJLl4tDPpQ",
        "outputId": "5bde00c3-bebc-4e93-f4b9-4eef94ac351b"
      },
      "execution_count": 22,
      "outputs": [
        {
          "output_type": "stream",
          "name": "stdout",
          "text": [
            "34 0\n"
          ]
        }
      ]
    },
    {
      "cell_type": "code",
      "source": [
        "df_predicted.to_csv('predicted_temperatures.csv', index=False)"
      ],
      "metadata": {
        "id": "fXrLRTUHFW9o"
      },
      "execution_count": 26,
      "outputs": []
    },
    {
      "cell_type": "code",
      "source": [],
      "metadata": {
        "id": "ieQ9A1TqFfnA"
      },
      "execution_count": null,
      "outputs": []
    }
  ]
}