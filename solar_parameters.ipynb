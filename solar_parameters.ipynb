{
  "nbformat": 4,
  "nbformat_minor": 0,
  "metadata": {
    "colab": {
      "provenance": [],
      "include_colab_link": true
    },
    "kernelspec": {
      "name": "python3",
      "display_name": "Python 3"
    },
    "language_info": {
      "name": "python"
    }
  },
  "cells": [
    {
      "cell_type": "markdown",
      "metadata": {
        "id": "view-in-github",
        "colab_type": "text"
      },
      "source": [
        "<a href=\"https://colab.research.google.com/github/danielvijill/solar_energy/blob/main/solar_parameters.ipynb\" target=\"_parent\"><img src=\"https://colab.research.google.com/assets/colab-badge.svg\" alt=\"Open In Colab\"/></a>"
      ]
    },
    {
      "cell_type": "markdown",
      "source": [
        "#Solar Parameters\n",
        "\n",
        "by *Daniel Argueta-Vijil* \\\n",
        "Calculation of solar parameters for solar energy cells"
      ],
      "metadata": {
        "id": "2jhEDlWlyBuj"
      }
    },
    {
      "cell_type": "code",
      "execution_count": 36,
      "metadata": {
        "id": "vbtCL5XGjHq3"
      },
      "outputs": [],
      "source": [
        "import numpy as np"
      ]
    },
    {
      "cell_type": "code",
      "source": [
        "#Functions for cosine and sine in degrees\n",
        "def cosn(t):\n",
        "  return(np.cos(np.deg2rad(t)))\n",
        "\n",
        "def sine(t):\n",
        "  return(np.sin(np.deg2rad(t)))\n",
        "\n",
        "#Function to display hours, minutes and seconds\n",
        "def time(t):\n",
        "  hours = int(t)\n",
        "  minutes = (t*60) % 60\n",
        "  seconds = (t*3600) % 60\n",
        "  return(\"%d:%02d.%02d\" % (hours, minutes, seconds))"
      ],
      "metadata": {
        "id": "ws5k-KgLQzYE"
      },
      "execution_count": 37,
      "outputs": []
    },
    {
      "cell_type": "code",
      "source": [
        "phi = float(input('latitude of locality:\\n'))\n",
        "t_of = float(input('official time:\\n'))\n",
        "beta = float(input('angle of the detector:\\n'))\n",
        "gamma = float(input('azimuth angle of the detector\\n'))"
      ],
      "metadata": {
        "colab": {
          "base_uri": "https://localhost:8080/"
        },
        "id": "ZmwOtcbUjgop",
        "outputId": "84d1478e-5346-4dea-9228-835fc1b6a6f0"
      },
      "execution_count": 38,
      "outputs": [
        {
          "name": "stdout",
          "output_type": "stream",
          "text": [
            "latitude of locality:\n",
            "13.32\n",
            "official time:\n",
            "11.5\n",
            "angle of the detector:\n",
            "10\n",
            "azimuth angle of the detector\n",
            "35\n"
          ]
        }
      ]
    },
    {
      "cell_type": "code",
      "source": [
        "I_sc = 1367\n",
        "n_d = int(input(\"Day number:\\n\"))"
      ],
      "metadata": {
        "colab": {
          "base_uri": "https://localhost:8080/"
        },
        "id": "EXWyiG2QlG6P",
        "outputId": "be5afe93-a330-4826-e1bf-78c1f2f386ae"
      },
      "execution_count": 39,
      "outputs": [
        {
          "name": "stdout",
          "output_type": "stream",
          "text": [
            "Day number:\n",
            "354\n"
          ]
        }
      ]
    },
    {
      "cell_type": "code",
      "source": [
        "L_of = float(input(\"Official time zone longitude (UTC):\\n\"))\n",
        "L_obs = float(input(\"Observer longitude:\\n\"))"
      ],
      "metadata": {
        "colab": {
          "base_uri": "https://localhost:8080/"
        },
        "id": "S2r9ETJHYf4k",
        "outputId": "cfdc9a65-da4f-4f97-ce63-257f90f113c0"
      },
      "execution_count": 40,
      "outputs": [
        {
          "name": "stdout",
          "output_type": "stream",
          "text": [
            "Official time zone longitude (UTC):\n",
            "90\n",
            "Observer longitude:\n",
            "87.16\n"
          ]
        }
      ]
    },
    {
      "cell_type": "code",
      "source": [
        "I = I_sc*(1.00 + 0.033*cosn((360.0/365.0)*(float(n_d) - 2.00)))\n",
        "delta = 23.45*sine((360.0/365.0)*(float(n_d) - 81.00))\n",
        "B = 360*(n_d-81)/365\n",
        "Emin = 9.87*sine(2*B) - 7.53*cosn(B) - 1.5*sine(B)\n",
        "B_alt = 360*(n_d-1)/365\n",
        "Emin_alt = 229.2*(0.000075 + 0.001868*cosn(B_alt) - 0.032077*sine(B_alt) -0.014615*cosn(2*B_alt) - 0.04089*sine(2*B_alt))\n",
        "t_s = t_of + (4*(L_of - L_obs))/60 + (Emin_alt)/60\n",
        "t_si = str(time(t_s))\n",
        "omega = 15*(12-t_s)\n",
        "costheta = sine(delta)*sine(phi)*cosn(beta) -sine(delta)*cosn(phi)*sine(beta)*cosn(gamma) + cosn(delta)*cosn(phi)*cosn(beta)*cosn(omega) + cosn(delta)*sine(phi)*sine(beta)*cosn(gamma)*cosn(omega) + cosn(delta)*sine(beta)*sine(gamma)*sine(omega)\n",
        "theta = np.rad2deg(np.arccos(costheta))\n",
        "sinalpha = cosn(phi)*cosn(delta)*cosn(omega) + sine(phi)*sine(delta)\n",
        "alpha = np.rad2deg(np.arcsin(sinalpha))\n",
        "theta_z = np.rad2deg(np.arccos(sinalpha))\n",
        "sinpsi = (sine(omega)*cosn(delta))/(sine(theta_z))\n",
        "psi = np.rad2deg(np.arcsin(sinpsi))\n",
        "cosomega_s = -(sine(phi)*sine(delta))/(cosn(phi)*cosn(delta))\n",
        "omega_s = np.rad2deg(np.arccos(cosomega_s))\n",
        "t_sunrise = 12-(omega_s/15)\n",
        "duration_of_day = 2*(omega_s/15)\n",
        "H0 = (24/np.pi)*3600*I_sc*(1+0.033*cosn(360*(n_d-2)/365))*(cosn(phi)*cosn(delta)*sine(omega_s) + omega_s*(np.pi/180)*sine(phi)*sine(delta))"
      ],
      "metadata": {
        "id": "zvDm-1jNkiHK"
      },
      "execution_count": 54,
      "outputs": []
    },
    {
      "cell_type": "markdown",
      "source": [],
      "metadata": {
        "id": "XL1P947RfiTg"
      }
    },
    {
      "cell_type": "code",
      "source": [
        "print('Irradiancia total extraterrestre: '+ str(I))\n",
        "print('Declination: '+ str(delta)+'°')\n",
        "print('Time equation with first approximation method is ' + str(Emin) + ' with B: ' + str(B))\n",
        "print('Time equation with second approximation method is ' + str(Emin_alt) + ' with B: ' + str(B_alt))\n",
        "print('Solar time: '+ t_si)\n",
        "print('Hour angle: '+ str(omega)+'°')\n",
        "print('Cosine of incidence angle: ' + str(costheta))\n",
        "print('Incidence angle: ' + str(theta)+'°')\n",
        "print('Sine of solar altitude angle: ' + str(sinalpha))\n",
        "print('Solar altitude angle: ' + str(alpha)+'°')\n",
        "print('Sine of solar zenith angle: '+str(sinpsi))\n",
        "print('Solar zenith angle: '+str(psi)+'°')\n",
        "print('Cosine of sunset hour angle: '+str(cosomega_s))\n",
        "print('Sunset hour angle: '+str(omega_s)+'°')\n",
        "print('Time of sunrise is '+str(time(t_sunrise))+', time of sunset is '+str(time(t_sunset)))\n",
        "print('Duration of the day is: '+str(time(duration_of_day)))\n",
        "print('Daily extraterrestial solar radiation: '+str(H0)+' J/m2')"
      ],
      "metadata": {
        "colab": {
          "base_uri": "https://localhost:8080/"
        },
        "id": "3fLViWs1l1Ee",
        "outputId": "182b2a14-624a-4603-c4e1-9e83c47654b2"
      },
      "execution_count": 55,
      "outputs": [
        {
          "output_type": "stream",
          "name": "stdout",
          "text": [
            "Irradiancia total extraterrestre: 1410.9861361146543\n",
            "Declination: -23.448045645453604°\n",
            "Time equation with first approximation method is 1.8519175224687205 with B: 269.26027397260276\n",
            "Time equation with second approximation method is 2.6389883593182235 with B: 348.16438356164383\n",
            "Solar time: 11:43.59\n",
            "Hour angle: 4.000252910170445°\n",
            "Cosine of incidence angle: 0.8781987682108279\n",
            "Incidence angle: 28.574160555357903°\n",
            "Sine of solar altitude angle: 0.7988903793016485\n",
            "Solar altitude angle: 53.024271642023145°\n",
            "Sine of solar zenith angle: 0.10640498271556037\n",
            "Solar zenith angle: 6.108119662468147°\n",
            "Cosine of sunset hour angle: 0.10269038753793487\n",
            "Sunset hour angle: 84.10588385769142°\n",
            "Time of sunrise is 6:23.34, time of sunset is 17:36.25\n",
            "Duration of the day is: 11:12.50\n",
            "Daily extraterrestial solar radiation: 29237489.225373782 J/m2\n"
          ]
        }
      ]
    },
    {
      "cell_type": "code",
      "source": [
        "time(10.5)"
      ],
      "metadata": {
        "id": "moD42GNRmaLF",
        "colab": {
          "base_uri": "https://localhost:8080/",
          "height": 36
        },
        "outputId": "e8be526b-9a25-4a23-adbc-c55f40752e19"
      },
      "execution_count": 43,
      "outputs": [
        {
          "output_type": "execute_result",
          "data": {
            "text/plain": [
              "'10:30.00'"
            ],
            "application/vnd.google.colaboratory.intrinsic+json": {
              "type": "string"
            }
          },
          "metadata": {},
          "execution_count": 43
        }
      ]
    },
    {
      "cell_type": "code",
      "source": [
        "t_s"
      ],
      "metadata": {
        "colab": {
          "base_uri": "https://localhost:8080/"
        },
        "id": "yJE86fxekRA-",
        "outputId": "167c8d2d-9146-4be6-bf99-2cc33039980e"
      },
      "execution_count": 44,
      "outputs": [
        {
          "output_type": "execute_result",
          "data": {
            "text/plain": [
              "11.733316472655304"
            ]
          },
          "metadata": {},
          "execution_count": 44
        }
      ]
    },
    {
      "cell_type": "code",
      "source": [
        "t_sunrise, t_sunset, duration_of_day"
      ],
      "metadata": {
        "colab": {
          "base_uri": "https://localhost:8080/"
        },
        "id": "gZMH_VC9eLMs",
        "outputId": "5ef01e76-5990-4b9c-9505-ef99d73abea3"
      },
      "execution_count": 56,
      "outputs": [
        {
          "output_type": "execute_result",
          "data": {
            "text/plain": [
              "(6.392941076153905, 17.607058923846097, 11.21411784769219)"
            ]
          },
          "metadata": {},
          "execution_count": 56
        }
      ]
    },
    {
      "cell_type": "code",
      "source": [
        "theta_z"
      ],
      "metadata": {
        "id": "0-uuXZ75fidQ",
        "colab": {
          "base_uri": "https://localhost:8080/"
        },
        "outputId": "a3a057e6-e7bb-4926-9d29-baa80356c077"
      },
      "execution_count": 57,
      "outputs": [
        {
          "output_type": "execute_result",
          "data": {
            "text/plain": [
              "36.97572835797686"
            ]
          },
          "metadata": {},
          "execution_count": 57
        }
      ]
    },
    {
      "cell_type": "code",
      "source": [
        "import pandas as pd\n",
        "df = pd.DataFrame()\n",
        "\n",
        "df['Climate Type'] = ['Tropical','Midlatitude Summer','Subarctic Summer','Midatlantic Winter']\n",
        "df['r0'] = [0.95,0.97,0.99,1.03]\n",
        "df['r1'] = [0.98,0.99,0.99,1.01]\n",
        "df['rk'] = [1.02,1.02,1.01,1.00]\n",
        "df.style.set_caption(\"Correction Factors for Climate Types\")\n",
        "\n",
        "# print(df)\n",
        "display(df)"
      ],
      "metadata": {
        "colab": {
          "base_uri": "https://localhost:8080/",
          "height": 175
        },
        "id": "ptzelZ6yglCV",
        "outputId": "717e5371-cd95-460a-bc3e-b6f9c5771f49"
      },
      "execution_count": 47,
      "outputs": [
        {
          "output_type": "display_data",
          "data": {
            "text/plain": [
              "         Climate Type    r0    r1    rk\n",
              "0            Tropical  0.95  0.98  1.02\n",
              "1  Midlatitude Summer  0.97  0.99  1.02\n",
              "2    Subarctic Summer  0.99  0.99  1.01\n",
              "3  Midatlantic Winter  1.03  1.01  1.00"
            ],
            "text/html": [
              "\n",
              "  <div id=\"df-e5c092ac-8a26-44ac-a21b-8aae88f9a56e\" class=\"colab-df-container\">\n",
              "    <div>\n",
              "<style scoped>\n",
              "    .dataframe tbody tr th:only-of-type {\n",
              "        vertical-align: middle;\n",
              "    }\n",
              "\n",
              "    .dataframe tbody tr th {\n",
              "        vertical-align: top;\n",
              "    }\n",
              "\n",
              "    .dataframe thead th {\n",
              "        text-align: right;\n",
              "    }\n",
              "</style>\n",
              "<table border=\"1\" class=\"dataframe\">\n",
              "  <thead>\n",
              "    <tr style=\"text-align: right;\">\n",
              "      <th></th>\n",
              "      <th>Climate Type</th>\n",
              "      <th>r0</th>\n",
              "      <th>r1</th>\n",
              "      <th>rk</th>\n",
              "    </tr>\n",
              "  </thead>\n",
              "  <tbody>\n",
              "    <tr>\n",
              "      <th>0</th>\n",
              "      <td>Tropical</td>\n",
              "      <td>0.95</td>\n",
              "      <td>0.98</td>\n",
              "      <td>1.02</td>\n",
              "    </tr>\n",
              "    <tr>\n",
              "      <th>1</th>\n",
              "      <td>Midlatitude Summer</td>\n",
              "      <td>0.97</td>\n",
              "      <td>0.99</td>\n",
              "      <td>1.02</td>\n",
              "    </tr>\n",
              "    <tr>\n",
              "      <th>2</th>\n",
              "      <td>Subarctic Summer</td>\n",
              "      <td>0.99</td>\n",
              "      <td>0.99</td>\n",
              "      <td>1.01</td>\n",
              "    </tr>\n",
              "    <tr>\n",
              "      <th>3</th>\n",
              "      <td>Midatlantic Winter</td>\n",
              "      <td>1.03</td>\n",
              "      <td>1.01</td>\n",
              "      <td>1.00</td>\n",
              "    </tr>\n",
              "  </tbody>\n",
              "</table>\n",
              "</div>\n",
              "    <div class=\"colab-df-buttons\">\n",
              "\n",
              "  <div class=\"colab-df-container\">\n",
              "    <button class=\"colab-df-convert\" onclick=\"convertToInteractive('df-e5c092ac-8a26-44ac-a21b-8aae88f9a56e')\"\n",
              "            title=\"Convert this dataframe to an interactive table.\"\n",
              "            style=\"display:none;\">\n",
              "\n",
              "  <svg xmlns=\"http://www.w3.org/2000/svg\" height=\"24px\" viewBox=\"0 -960 960 960\">\n",
              "    <path d=\"M120-120v-720h720v720H120Zm60-500h600v-160H180v160Zm220 220h160v-160H400v160Zm0 220h160v-160H400v160ZM180-400h160v-160H180v160Zm440 0h160v-160H620v160ZM180-180h160v-160H180v160Zm440 0h160v-160H620v160Z\"/>\n",
              "  </svg>\n",
              "    </button>\n",
              "\n",
              "  <style>\n",
              "    .colab-df-container {\n",
              "      display:flex;\n",
              "      gap: 12px;\n",
              "    }\n",
              "\n",
              "    .colab-df-convert {\n",
              "      background-color: #E8F0FE;\n",
              "      border: none;\n",
              "      border-radius: 50%;\n",
              "      cursor: pointer;\n",
              "      display: none;\n",
              "      fill: #1967D2;\n",
              "      height: 32px;\n",
              "      padding: 0 0 0 0;\n",
              "      width: 32px;\n",
              "    }\n",
              "\n",
              "    .colab-df-convert:hover {\n",
              "      background-color: #E2EBFA;\n",
              "      box-shadow: 0px 1px 2px rgba(60, 64, 67, 0.3), 0px 1px 3px 1px rgba(60, 64, 67, 0.15);\n",
              "      fill: #174EA6;\n",
              "    }\n",
              "\n",
              "    .colab-df-buttons div {\n",
              "      margin-bottom: 4px;\n",
              "    }\n",
              "\n",
              "    [theme=dark] .colab-df-convert {\n",
              "      background-color: #3B4455;\n",
              "      fill: #D2E3FC;\n",
              "    }\n",
              "\n",
              "    [theme=dark] .colab-df-convert:hover {\n",
              "      background-color: #434B5C;\n",
              "      box-shadow: 0px 1px 3px 1px rgba(0, 0, 0, 0.15);\n",
              "      filter: drop-shadow(0px 1px 2px rgba(0, 0, 0, 0.3));\n",
              "      fill: #FFFFFF;\n",
              "    }\n",
              "  </style>\n",
              "\n",
              "    <script>\n",
              "      const buttonEl =\n",
              "        document.querySelector('#df-e5c092ac-8a26-44ac-a21b-8aae88f9a56e button.colab-df-convert');\n",
              "      buttonEl.style.display =\n",
              "        google.colab.kernel.accessAllowed ? 'block' : 'none';\n",
              "\n",
              "      async function convertToInteractive(key) {\n",
              "        const element = document.querySelector('#df-e5c092ac-8a26-44ac-a21b-8aae88f9a56e');\n",
              "        const dataTable =\n",
              "          await google.colab.kernel.invokeFunction('convertToInteractive',\n",
              "                                                    [key], {});\n",
              "        if (!dataTable) return;\n",
              "\n",
              "        const docLinkHtml = 'Like what you see? Visit the ' +\n",
              "          '<a target=\"_blank\" href=https://colab.research.google.com/notebooks/data_table.ipynb>data table notebook</a>'\n",
              "          + ' to learn more about interactive tables.';\n",
              "        element.innerHTML = '';\n",
              "        dataTable['output_type'] = 'display_data';\n",
              "        await google.colab.output.renderOutput(dataTable, element);\n",
              "        const docLink = document.createElement('div');\n",
              "        docLink.innerHTML = docLinkHtml;\n",
              "        element.appendChild(docLink);\n",
              "      }\n",
              "    </script>\n",
              "  </div>\n",
              "\n",
              "\n",
              "<div id=\"df-b134211d-4d74-40eb-bc37-8f130b4b049f\">\n",
              "  <button class=\"colab-df-quickchart\" onclick=\"quickchart('df-b134211d-4d74-40eb-bc37-8f130b4b049f')\"\n",
              "            title=\"Suggest charts\"\n",
              "            style=\"display:none;\">\n",
              "\n",
              "<svg xmlns=\"http://www.w3.org/2000/svg\" height=\"24px\"viewBox=\"0 0 24 24\"\n",
              "     width=\"24px\">\n",
              "    <g>\n",
              "        <path d=\"M19 3H5c-1.1 0-2 .9-2 2v14c0 1.1.9 2 2 2h14c1.1 0 2-.9 2-2V5c0-1.1-.9-2-2-2zM9 17H7v-7h2v7zm4 0h-2V7h2v10zm4 0h-2v-4h2v4z\"/>\n",
              "    </g>\n",
              "</svg>\n",
              "  </button>\n",
              "\n",
              "<style>\n",
              "  .colab-df-quickchart {\n",
              "      --bg-color: #E8F0FE;\n",
              "      --fill-color: #1967D2;\n",
              "      --hover-bg-color: #E2EBFA;\n",
              "      --hover-fill-color: #174EA6;\n",
              "      --disabled-fill-color: #AAA;\n",
              "      --disabled-bg-color: #DDD;\n",
              "  }\n",
              "\n",
              "  [theme=dark] .colab-df-quickchart {\n",
              "      --bg-color: #3B4455;\n",
              "      --fill-color: #D2E3FC;\n",
              "      --hover-bg-color: #434B5C;\n",
              "      --hover-fill-color: #FFFFFF;\n",
              "      --disabled-bg-color: #3B4455;\n",
              "      --disabled-fill-color: #666;\n",
              "  }\n",
              "\n",
              "  .colab-df-quickchart {\n",
              "    background-color: var(--bg-color);\n",
              "    border: none;\n",
              "    border-radius: 50%;\n",
              "    cursor: pointer;\n",
              "    display: none;\n",
              "    fill: var(--fill-color);\n",
              "    height: 32px;\n",
              "    padding: 0;\n",
              "    width: 32px;\n",
              "  }\n",
              "\n",
              "  .colab-df-quickchart:hover {\n",
              "    background-color: var(--hover-bg-color);\n",
              "    box-shadow: 0 1px 2px rgba(60, 64, 67, 0.3), 0 1px 3px 1px rgba(60, 64, 67, 0.15);\n",
              "    fill: var(--button-hover-fill-color);\n",
              "  }\n",
              "\n",
              "  .colab-df-quickchart-complete:disabled,\n",
              "  .colab-df-quickchart-complete:disabled:hover {\n",
              "    background-color: var(--disabled-bg-color);\n",
              "    fill: var(--disabled-fill-color);\n",
              "    box-shadow: none;\n",
              "  }\n",
              "\n",
              "  .colab-df-spinner {\n",
              "    border: 2px solid var(--fill-color);\n",
              "    border-color: transparent;\n",
              "    border-bottom-color: var(--fill-color);\n",
              "    animation:\n",
              "      spin 1s steps(1) infinite;\n",
              "  }\n",
              "\n",
              "  @keyframes spin {\n",
              "    0% {\n",
              "      border-color: transparent;\n",
              "      border-bottom-color: var(--fill-color);\n",
              "      border-left-color: var(--fill-color);\n",
              "    }\n",
              "    20% {\n",
              "      border-color: transparent;\n",
              "      border-left-color: var(--fill-color);\n",
              "      border-top-color: var(--fill-color);\n",
              "    }\n",
              "    30% {\n",
              "      border-color: transparent;\n",
              "      border-left-color: var(--fill-color);\n",
              "      border-top-color: var(--fill-color);\n",
              "      border-right-color: var(--fill-color);\n",
              "    }\n",
              "    40% {\n",
              "      border-color: transparent;\n",
              "      border-right-color: var(--fill-color);\n",
              "      border-top-color: var(--fill-color);\n",
              "    }\n",
              "    60% {\n",
              "      border-color: transparent;\n",
              "      border-right-color: var(--fill-color);\n",
              "    }\n",
              "    80% {\n",
              "      border-color: transparent;\n",
              "      border-right-color: var(--fill-color);\n",
              "      border-bottom-color: var(--fill-color);\n",
              "    }\n",
              "    90% {\n",
              "      border-color: transparent;\n",
              "      border-bottom-color: var(--fill-color);\n",
              "    }\n",
              "  }\n",
              "</style>\n",
              "\n",
              "  <script>\n",
              "    async function quickchart(key) {\n",
              "      const quickchartButtonEl =\n",
              "        document.querySelector('#' + key + ' button');\n",
              "      quickchartButtonEl.disabled = true;  // To prevent multiple clicks.\n",
              "      quickchartButtonEl.classList.add('colab-df-spinner');\n",
              "      try {\n",
              "        const charts = await google.colab.kernel.invokeFunction(\n",
              "            'suggestCharts', [key], {});\n",
              "      } catch (error) {\n",
              "        console.error('Error during call to suggestCharts:', error);\n",
              "      }\n",
              "      quickchartButtonEl.classList.remove('colab-df-spinner');\n",
              "      quickchartButtonEl.classList.add('colab-df-quickchart-complete');\n",
              "    }\n",
              "    (() => {\n",
              "      let quickchartButtonEl =\n",
              "        document.querySelector('#df-b134211d-4d74-40eb-bc37-8f130b4b049f button');\n",
              "      quickchartButtonEl.style.display =\n",
              "        google.colab.kernel.accessAllowed ? 'block' : 'none';\n",
              "    })();\n",
              "  </script>\n",
              "</div>\n",
              "\n",
              "  <div id=\"id_f10b6399-0bd4-418c-9f5e-74b0d29c8688\">\n",
              "    <style>\n",
              "      .colab-df-generate {\n",
              "        background-color: #E8F0FE;\n",
              "        border: none;\n",
              "        border-radius: 50%;\n",
              "        cursor: pointer;\n",
              "        display: none;\n",
              "        fill: #1967D2;\n",
              "        height: 32px;\n",
              "        padding: 0 0 0 0;\n",
              "        width: 32px;\n",
              "      }\n",
              "\n",
              "      .colab-df-generate:hover {\n",
              "        background-color: #E2EBFA;\n",
              "        box-shadow: 0px 1px 2px rgba(60, 64, 67, 0.3), 0px 1px 3px 1px rgba(60, 64, 67, 0.15);\n",
              "        fill: #174EA6;\n",
              "      }\n",
              "\n",
              "      [theme=dark] .colab-df-generate {\n",
              "        background-color: #3B4455;\n",
              "        fill: #D2E3FC;\n",
              "      }\n",
              "\n",
              "      [theme=dark] .colab-df-generate:hover {\n",
              "        background-color: #434B5C;\n",
              "        box-shadow: 0px 1px 3px 1px rgba(0, 0, 0, 0.15);\n",
              "        filter: drop-shadow(0px 1px 2px rgba(0, 0, 0, 0.3));\n",
              "        fill: #FFFFFF;\n",
              "      }\n",
              "    </style>\n",
              "    <button class=\"colab-df-generate\" onclick=\"generateWithVariable('df')\"\n",
              "            title=\"Generate code using this dataframe.\"\n",
              "            style=\"display:none;\">\n",
              "\n",
              "  <svg xmlns=\"http://www.w3.org/2000/svg\" height=\"24px\"viewBox=\"0 0 24 24\"\n",
              "       width=\"24px\">\n",
              "    <path d=\"M7,19H8.4L18.45,9,17,7.55,7,17.6ZM5,21V16.75L18.45,3.32a2,2,0,0,1,2.83,0l1.4,1.43a1.91,1.91,0,0,1,.58,1.4,1.91,1.91,0,0,1-.58,1.4L9.25,21ZM18.45,9,17,7.55Zm-12,3A5.31,5.31,0,0,0,4.9,8.1,5.31,5.31,0,0,0,1,6.5,5.31,5.31,0,0,0,4.9,4.9,5.31,5.31,0,0,0,6.5,1,5.31,5.31,0,0,0,8.1,4.9,5.31,5.31,0,0,0,12,6.5,5.46,5.46,0,0,0,6.5,12Z\"/>\n",
              "  </svg>\n",
              "    </button>\n",
              "    <script>\n",
              "      (() => {\n",
              "      const buttonEl =\n",
              "        document.querySelector('#id_f10b6399-0bd4-418c-9f5e-74b0d29c8688 button.colab-df-generate');\n",
              "      buttonEl.style.display =\n",
              "        google.colab.kernel.accessAllowed ? 'block' : 'none';\n",
              "\n",
              "      buttonEl.onclick = () => {\n",
              "        google.colab.notebook.generateWithVariable('df');\n",
              "      }\n",
              "      })();\n",
              "    </script>\n",
              "  </div>\n",
              "\n",
              "    </div>\n",
              "  </div>\n"
            ],
            "application/vnd.google.colaboratory.intrinsic+json": {
              "type": "dataframe",
              "variable_name": "df",
              "summary": "{\n  \"name\": \"df\",\n  \"rows\": 4,\n  \"fields\": [\n    {\n      \"column\": \"Climate Type\",\n      \"properties\": {\n        \"dtype\": \"string\",\n        \"num_unique_values\": 4,\n        \"samples\": [\n          \"Midlatitude Summer\",\n          \"Midatlantic Winter\",\n          \"Tropical\"\n        ],\n        \"semantic_type\": \"\",\n        \"description\": \"\"\n      }\n    },\n    {\n      \"column\": \"r0\",\n      \"properties\": {\n        \"dtype\": \"number\",\n        \"std\": 0.034156502553198693,\n        \"min\": 0.95,\n        \"max\": 1.03,\n        \"num_unique_values\": 4,\n        \"samples\": [\n          0.97,\n          1.03,\n          0.95\n        ],\n        \"semantic_type\": \"\",\n        \"description\": \"\"\n      }\n    },\n    {\n      \"column\": \"r1\",\n      \"properties\": {\n        \"dtype\": \"number\",\n        \"std\": 0.012583057392117928,\n        \"min\": 0.98,\n        \"max\": 1.01,\n        \"num_unique_values\": 3,\n        \"samples\": [\n          0.98,\n          0.99,\n          1.01\n        ],\n        \"semantic_type\": \"\",\n        \"description\": \"\"\n      }\n    },\n    {\n      \"column\": \"rk\",\n      \"properties\": {\n        \"dtype\": \"number\",\n        \"std\": 0.00957427107756339,\n        \"min\": 1.0,\n        \"max\": 1.02,\n        \"num_unique_values\": 3,\n        \"samples\": [\n          1.02,\n          1.01,\n          1.0\n        ],\n        \"semantic_type\": \"\",\n        \"description\": \"\"\n      }\n    }\n  ]\n}"
            }
          },
          "metadata": {}
        }
      ]
    },
    {
      "cell_type": "code",
      "source": [
        "A = float(input('Altitude:\\n'))\n",
        "r0 = float(input('r0:\\n'))\n",
        "r1 = float(input('r1:\\n'))\n",
        "rk = float(input('rk:\\n'))"
      ],
      "metadata": {
        "colab": {
          "base_uri": "https://localhost:8080/"
        },
        "id": "k2AmNDs7fJnr",
        "outputId": "488f38f1-8503-4d18-b035-46bb97313ebc"
      },
      "execution_count": 48,
      "outputs": [
        {
          "name": "stdout",
          "output_type": "stream",
          "text": [
            "Altitude:\n",
            "0.054\n",
            "r0:\n",
            "0.95\n",
            "r1:\n",
            "0.98\n",
            "rk:\n",
            "1.02\n"
          ]
        }
      ]
    },
    {
      "cell_type": "code",
      "source": [
        "#Calculation of transmittance\n",
        "a0h = (0.4237 - 0.00821*(6-A)**2)\n",
        "a1h = (0.5055 + 0.00595*(6.5-A)**2)\n",
        "kh  = (0.2711 + 0.01858*(2.5-A)**2)\n",
        "\n",
        "a0 = a0h*r0\n",
        "a1 = a1h*r1\n",
        "k  = kh*rk"
      ],
      "metadata": {
        "id": "UmvN-s0hfRyj"
      },
      "execution_count": 49,
      "outputs": []
    },
    {
      "cell_type": "code",
      "source": [
        "print('a0h: '+str(a0h))\n",
        "print('a1h: '+str(a1h))\n",
        "print('kh: '+str(kh))\n",
        "print('w_s: '+str(omega_s))\n",
        "print('-------------')\n",
        "print('a0: '+str(a0))\n",
        "print('a1: '+str(a1))\n",
        "print('k: '+str(k))"
      ],
      "metadata": {
        "colab": {
          "base_uri": "https://localhost:8080/"
        },
        "id": "8L3fAkpUjmw5",
        "outputId": "4769b09a-061d-4d74-9dd4-1e957d1b59f7"
      },
      "execution_count": 50,
      "outputs": [
        {
          "output_type": "stream",
          "name": "stdout",
          "text": [
            "a0h: 0.13343613964000006\n",
            "a1h: 0.7527279501999999\n",
            "kh: 0.38226257928\n",
            "w_s: 84.10588385769142\n",
            "-------------\n",
            "a0: 0.12676433265800005\n",
            "a1: 0.737673391196\n",
            "k: 0.38990783086560005\n"
          ]
        }
      ]
    },
    {
      "cell_type": "code",
      "source": [
        "tau = a0 + a1*np.exp(-k/cosn(theta_z))\n",
        "print('transmittance at clear sky: '+str(tau))"
      ],
      "metadata": {
        "colab": {
          "base_uri": "https://localhost:8080/"
        },
        "id": "BDwqP36ijyut",
        "outputId": "f349f9d8-9f0e-4006-f4a7-6be7e8fb4342"
      },
      "execution_count": 51,
      "outputs": [
        {
          "output_type": "stream",
          "name": "stdout",
          "text": [
            "transmittance at clear sky: 0.5795593054971225\n"
          ]
        }
      ]
    },
    {
      "cell_type": "code",
      "source": [],
      "metadata": {
        "id": "xpHB4-3qeS_q"
      },
      "execution_count": null,
      "outputs": []
    }
  ]
}