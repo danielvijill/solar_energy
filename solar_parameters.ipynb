{
  "nbformat": 4,
  "nbformat_minor": 0,
  "metadata": {
    "colab": {
      "provenance": [],
      "include_colab_link": true
    },
    "kernelspec": {
      "name": "python3",
      "display_name": "Python 3"
    },
    "language_info": {
      "name": "python"
    }
  },
  "cells": [
    {
      "cell_type": "markdown",
      "metadata": {
        "id": "view-in-github",
        "colab_type": "text"
      },
      "source": [
        "<a href=\"https://colab.research.google.com/github/danielvijill/solar_energy/blob/main/solar_parameters.ipynb\" target=\"_parent\"><img src=\"https://colab.research.google.com/assets/colab-badge.svg\" alt=\"Open In Colab\"/></a>"
      ]
    },
    {
      "cell_type": "markdown",
      "source": [
        "#Solar Parameters\n",
        "\n",
        "by *Daniel Argueta-Vijil* \\\n",
        "Calculation of solar parameters for solar energy cells"
      ],
      "metadata": {
        "id": "2jhEDlWlyBuj"
      }
    },
    {
      "cell_type": "code",
      "execution_count": 3,
      "metadata": {
        "id": "vbtCL5XGjHq3"
      },
      "outputs": [],
      "source": [
        "import numpy as np"
      ]
    },
    {
      "cell_type": "code",
      "source": [
        "#Functions for cosine and sine in degrees\n",
        "def cosn(t):\n",
        "  return(np.cos(np.deg2rad(t)))\n",
        "\n",
        "def sine(t):\n",
        "  return(np.sin(np.deg2rad(t)))\n",
        "\n",
        "#Function to display hours, minutes and seconds\n",
        "def time(t):\n",
        "  hours = int(t)\n",
        "  minutes = (t*60) % 60\n",
        "  seconds = (t*3600) % 60\n",
        "  return(\"%d:%02d.%02d\" % (hours, minutes, seconds))"
      ],
      "metadata": {
        "id": "ws5k-KgLQzYE"
      },
      "execution_count": 2,
      "outputs": []
    },
    {
      "cell_type": "code",
      "source": [
        "phi = float(input('latitude of locality:\\n'))\n",
        "t_of = float(input('official time:\\n'))\n",
        "beta = float(input('angle of the detector:\\n'))\n",
        "gamma = float(input('azimuth angle of the detector\\n'))"
      ],
      "metadata": {
        "colab": {
          "base_uri": "https://localhost:8080/"
        },
        "id": "ZmwOtcbUjgop",
        "outputId": "4160b0eb-ae34-40dd-8b12-97ac9e379d13"
      },
      "execution_count": 4,
      "outputs": [
        {
          "name": "stdout",
          "output_type": "stream",
          "text": [
            "latitude of locality:\n",
            "14.07\n",
            "official time:\n",
            "10.5\n",
            "angle of the detector:\n",
            "10\n",
            "azimuth angle of the detector\n",
            "35\n"
          ]
        }
      ]
    },
    {
      "cell_type": "code",
      "source": [
        "I_sc = 1367\n",
        "n_d = int(input(\"Day number:\\n\"))"
      ],
      "metadata": {
        "colab": {
          "base_uri": "https://localhost:8080/"
        },
        "id": "EXWyiG2QlG6P",
        "outputId": "f4cfc2ff-7c38-4b1c-fbfe-3befa89c9d66"
      },
      "execution_count": 5,
      "outputs": [
        {
          "name": "stdout",
          "output_type": "stream",
          "text": [
            "Day number:\n",
            "110\n"
          ]
        }
      ]
    },
    {
      "cell_type": "code",
      "source": [
        "L_of = float(input(\"Official time zone longitude (UTC):\\n\"))\n",
        "L_obs = float(input(\"Observer longitude:\\n\"))"
      ],
      "metadata": {
        "colab": {
          "base_uri": "https://localhost:8080/"
        },
        "id": "S2r9ETJHYf4k",
        "outputId": "e7bfe4ba-5c2f-4594-ae7b-82766afc4602"
      },
      "execution_count": 6,
      "outputs": [
        {
          "name": "stdout",
          "output_type": "stream",
          "text": [
            "Official time zone longitude (UTC):\n",
            "90\n",
            "Observer longitude:\n",
            "89.1715\n"
          ]
        }
      ]
    },
    {
      "cell_type": "code",
      "source": [
        "I = I_sc*(1.00 + 0.033*cosn((360.0/365.0)*(float(n_d) - 2.00)))\n",
        "delta = 23.45*sine((360.0/365.0)*(float(n_d) - 81.00))\n",
        "B = 360*(n_d-81)/365\n",
        "Emin = 9.87*sine(2*B) - 7.53*cosn(B) - 1.5*sine(B)\n",
        "B_alt = 360*(n_d-1)/365\n",
        "Emin_alt = 229.2*(0.000075 + 0.001868*cosn(B_alt) - 0.032077*sine(B_alt) -0.014615*cosn(2*B_alt) - 0.04089*sine(2*B_alt))\n",
        "t_s = t_of + (4*(L_of - L_obs))/60 + (Emin_alt)/60\n",
        "t_si = str(time(t_s))\n",
        "omega = 15*(12-t_s)\n",
        "costheta = sine(delta)*sine(phi)*cosn(beta) -sine(delta)*cosn(phi)*sine(beta)*cosn(gamma) + cosn(delta)*cosn(phi)*cosn(beta)*cosn(omega) + cosn(delta)*sine(phi)*sine(beta)*cosn(gamma)*cosn(omega) + cosn(delta)*sine(beta)*sine(gamma)*sine(omega)\n",
        "theta = np.rad2deg(np.arccos(costheta))\n",
        "sinalpha = cosn(phi)*cosn(delta)*cosn(omega) + sine(phi)*sine(delta)\n",
        "alpha = np.rad2deg(np.arcsin(sinalpha))\n",
        "theta_z = np.rad2deg(np.arccos(sinalpha))\n",
        "sinpsi = (sine(omega)*cosn(delta))/(sine(theta_z))\n",
        "psi = np.rad2deg(np.arcsin(sinpsi))\n",
        "cosomega_s = -(sine(phi)*sine(delta))/(cosn(phi)*cosn(delta))\n",
        "omega_s = np.rad2deg(np.arccos(cosomega_s))\n",
        "t_sunrise = 12-(omega_s/15)\n",
        "t_sunset = 12+(omega_s/15)\n",
        "duration_of_day = 2*(omega_s/15)\n",
        "H0 = (24/np.pi)*3600*I_sc*(1+0.033*cosn(360*(n_d-2)/365))*(cosn(phi)*cosn(delta)*sine(omega_s) + omega_s*(np.pi/180)*sine(phi)*sine(delta))"
      ],
      "metadata": {
        "id": "zvDm-1jNkiHK"
      },
      "execution_count": 7,
      "outputs": []
    },
    {
      "cell_type": "markdown",
      "source": [],
      "metadata": {
        "id": "XL1P947RfiTg"
      }
    },
    {
      "cell_type": "code",
      "source": [
        "print('Irradiancia total extraterrestre: '+ str(I))\n",
        "print('Declination: '+ str(delta)+'°')\n",
        "print('Time equation with first approximation method is ' + str(Emin) + ' with B: ' + str(B))\n",
        "print('Time equation with second approximation method is ' + str(Emin_alt) + ' with B: ' + str(B_alt))\n",
        "print('Solar time: '+ t_si)\n",
        "print('Hour angle: '+ str(omega)+'°')\n",
        "print('Cosine of incidence angle: ' + str(costheta))\n",
        "print('Incidence angle: ' + str(theta)+'°')\n",
        "print('Sine of solar altitude angle: ' + str(sinalpha))\n",
        "print('Solar altitude angle: ' + str(alpha)+'°')\n",
        "print('Sine of solar zenith angle: '+str(sinpsi))\n",
        "print('Solar zenith angle: '+str(psi)+'°')\n",
        "print('Sine of solar hour angle: '+str(cosomega_s))\n",
        "print('Solar hour angle: '+str(omega_s)+'°')\n",
        "print('Time of sunrise is '+str(time(t_sunrise))+', time of sunset is '+str(time(t_sunset)))\n",
        "print('Duration of the day is: '+str(time(duration_of_day)))\n",
        "print('Daily extraterrestial solar radiation: '+str(H0)+' J/m2')"
      ],
      "metadata": {
        "colab": {
          "base_uri": "https://localhost:8080/"
        },
        "id": "3fLViWs1l1Ee",
        "outputId": "53e0d55e-687e-4b2a-c352-40131352f605"
      },
      "execution_count": 11,
      "outputs": [
        {
          "output_type": "stream",
          "name": "stdout",
          "text": [
            "Irradiancia total extraterrestre: 1354.1722727025667\n",
            "Declination: 11.226308550715238°\n",
            "Time equation with first approximation method is 0.9677634656409293 with B: 28.602739726027398\n",
            "Time equation with second approximation method is 0.9977749558482808 with B: 107.5068493150685\n",
            "Solar time: 10:34.18\n",
            "Hour angle: 21.422056261037934°\n",
            "Cosine of incidence angle: 0.9592589381980497\n",
            "Incidence angle: 16.41116487325715°\n",
            "Sine of solar altitude angle: 0.9330386814356973\n",
            "Solar altitude angle: 68.9135557800117°\n",
            "Sine of solar zenith angle: 0.9957491461662523\n",
            "Solar zenith angle: 84.71518632930032°\n",
            "Sine of solar hour angle: -0.0497449026147375\n",
            "Solar hour angle: 92.85134976812924°\n",
            "Time of sunrise is 5:48.35, time of sunset is 18:11.24\n",
            "Duration of the day is: 12:22.48\n",
            "Daily extraterrestial solar radiation: 38246518.39116521 J/m2\n"
          ]
        }
      ]
    },
    {
      "cell_type": "code",
      "source": [
        "time(10.5)"
      ],
      "metadata": {
        "id": "moD42GNRmaLF",
        "colab": {
          "base_uri": "https://localhost:8080/",
          "height": 36
        },
        "outputId": "a7701076-1c6d-4dd9-c240-628ef49e5175"
      },
      "execution_count": null,
      "outputs": [
        {
          "output_type": "execute_result",
          "data": {
            "text/plain": [
              "'10:30.00'"
            ],
            "application/vnd.google.colaboratory.intrinsic+json": {
              "type": "string"
            }
          },
          "metadata": {},
          "execution_count": 8
        }
      ]
    },
    {
      "cell_type": "code",
      "source": [
        "t_sunrise, t_sunset, duration_of_day"
      ],
      "metadata": {
        "colab": {
          "base_uri": "https://localhost:8080/"
        },
        "id": "gZMH_VC9eLMs",
        "outputId": "f6e4a778-3d75-47bb-bd38-3dc183d27c67"
      },
      "execution_count": null,
      "outputs": [
        {
          "output_type": "execute_result",
          "data": {
            "text/plain": [
              "(5.80991001545805, 18.19008998454195, 12.3801799690839)"
            ]
          },
          "metadata": {},
          "execution_count": 42
        }
      ]
    },
    {
      "cell_type": "code",
      "source": [
        "theta_z"
      ],
      "metadata": {
        "id": "0-uuXZ75fidQ",
        "colab": {
          "base_uri": "https://localhost:8080/"
        },
        "outputId": "ae836db3-3e73-46ba-d433-db6f7e0fce4b"
      },
      "execution_count": null,
      "outputs": [
        {
          "output_type": "execute_result",
          "data": {
            "text/plain": [
              "21.086444219988294"
            ]
          },
          "metadata": {},
          "execution_count": 29
        }
      ]
    },
    {
      "cell_type": "code",
      "source": [
        "import pandas as pd\n",
        "df = pd.DataFrame()\n",
        "\n",
        "df['Climate Type'] = ['Tropical','Midlatitude Summer','Subarctic Summer','Midatlantic Winter']\n",
        "df['r0'] = [0.95,0.97,0.99,1.03]\n",
        "df['r1'] = [0.98,0.99,0.99,1.01]\n",
        "df['rk'] = [1.02,1.02,1.01,1.00]\n",
        "df.style.set_caption(\"Correction Factors for Climate Types\")\n",
        "\n",
        "# print(df)\n",
        "display(df)"
      ],
      "metadata": {
        "colab": {
          "base_uri": "https://localhost:8080/",
          "height": 175
        },
        "id": "ptzelZ6yglCV",
        "outputId": "0c2c4f69-b661-4178-e31e-a80219a6f56d"
      },
      "execution_count": 5,
      "outputs": [
        {
          "output_type": "display_data",
          "data": {
            "text/plain": [
              "         Climate Type    r0    r1    rk\n",
              "0            Tropical  0.95  0.98  1.02\n",
              "1  Midlatitude Summer  0.97  0.99  1.02\n",
              "2    Subarctic Summer  0.99  0.99  1.01\n",
              "3  Midatlantic Winter  1.03  1.01  1.00"
            ],
            "text/html": [
              "\n",
              "  <div id=\"df-3601428f-9a6f-45a4-84f8-6b5e4a314656\" class=\"colab-df-container\">\n",
              "    <div>\n",
              "<style scoped>\n",
              "    .dataframe tbody tr th:only-of-type {\n",
              "        vertical-align: middle;\n",
              "    }\n",
              "\n",
              "    .dataframe tbody tr th {\n",
              "        vertical-align: top;\n",
              "    }\n",
              "\n",
              "    .dataframe thead th {\n",
              "        text-align: right;\n",
              "    }\n",
              "</style>\n",
              "<table border=\"1\" class=\"dataframe\">\n",
              "  <thead>\n",
              "    <tr style=\"text-align: right;\">\n",
              "      <th></th>\n",
              "      <th>Climate Type</th>\n",
              "      <th>r0</th>\n",
              "      <th>r1</th>\n",
              "      <th>rk</th>\n",
              "    </tr>\n",
              "  </thead>\n",
              "  <tbody>\n",
              "    <tr>\n",
              "      <th>0</th>\n",
              "      <td>Tropical</td>\n",
              "      <td>0.95</td>\n",
              "      <td>0.98</td>\n",
              "      <td>1.02</td>\n",
              "    </tr>\n",
              "    <tr>\n",
              "      <th>1</th>\n",
              "      <td>Midlatitude Summer</td>\n",
              "      <td>0.97</td>\n",
              "      <td>0.99</td>\n",
              "      <td>1.02</td>\n",
              "    </tr>\n",
              "    <tr>\n",
              "      <th>2</th>\n",
              "      <td>Subarctic Summer</td>\n",
              "      <td>0.99</td>\n",
              "      <td>0.99</td>\n",
              "      <td>1.01</td>\n",
              "    </tr>\n",
              "    <tr>\n",
              "      <th>3</th>\n",
              "      <td>Midatlantic Winter</td>\n",
              "      <td>1.03</td>\n",
              "      <td>1.01</td>\n",
              "      <td>1.00</td>\n",
              "    </tr>\n",
              "  </tbody>\n",
              "</table>\n",
              "</div>\n",
              "    <div class=\"colab-df-buttons\">\n",
              "\n",
              "  <div class=\"colab-df-container\">\n",
              "    <button class=\"colab-df-convert\" onclick=\"convertToInteractive('df-3601428f-9a6f-45a4-84f8-6b5e4a314656')\"\n",
              "            title=\"Convert this dataframe to an interactive table.\"\n",
              "            style=\"display:none;\">\n",
              "\n",
              "  <svg xmlns=\"http://www.w3.org/2000/svg\" height=\"24px\" viewBox=\"0 -960 960 960\">\n",
              "    <path d=\"M120-120v-720h720v720H120Zm60-500h600v-160H180v160Zm220 220h160v-160H400v160Zm0 220h160v-160H400v160ZM180-400h160v-160H180v160Zm440 0h160v-160H620v160ZM180-180h160v-160H180v160Zm440 0h160v-160H620v160Z\"/>\n",
              "  </svg>\n",
              "    </button>\n",
              "\n",
              "  <style>\n",
              "    .colab-df-container {\n",
              "      display:flex;\n",
              "      gap: 12px;\n",
              "    }\n",
              "\n",
              "    .colab-df-convert {\n",
              "      background-color: #E8F0FE;\n",
              "      border: none;\n",
              "      border-radius: 50%;\n",
              "      cursor: pointer;\n",
              "      display: none;\n",
              "      fill: #1967D2;\n",
              "      height: 32px;\n",
              "      padding: 0 0 0 0;\n",
              "      width: 32px;\n",
              "    }\n",
              "\n",
              "    .colab-df-convert:hover {\n",
              "      background-color: #E2EBFA;\n",
              "      box-shadow: 0px 1px 2px rgba(60, 64, 67, 0.3), 0px 1px 3px 1px rgba(60, 64, 67, 0.15);\n",
              "      fill: #174EA6;\n",
              "    }\n",
              "\n",
              "    .colab-df-buttons div {\n",
              "      margin-bottom: 4px;\n",
              "    }\n",
              "\n",
              "    [theme=dark] .colab-df-convert {\n",
              "      background-color: #3B4455;\n",
              "      fill: #D2E3FC;\n",
              "    }\n",
              "\n",
              "    [theme=dark] .colab-df-convert:hover {\n",
              "      background-color: #434B5C;\n",
              "      box-shadow: 0px 1px 3px 1px rgba(0, 0, 0, 0.15);\n",
              "      filter: drop-shadow(0px 1px 2px rgba(0, 0, 0, 0.3));\n",
              "      fill: #FFFFFF;\n",
              "    }\n",
              "  </style>\n",
              "\n",
              "    <script>\n",
              "      const buttonEl =\n",
              "        document.querySelector('#df-3601428f-9a6f-45a4-84f8-6b5e4a314656 button.colab-df-convert');\n",
              "      buttonEl.style.display =\n",
              "        google.colab.kernel.accessAllowed ? 'block' : 'none';\n",
              "\n",
              "      async function convertToInteractive(key) {\n",
              "        const element = document.querySelector('#df-3601428f-9a6f-45a4-84f8-6b5e4a314656');\n",
              "        const dataTable =\n",
              "          await google.colab.kernel.invokeFunction('convertToInteractive',\n",
              "                                                    [key], {});\n",
              "        if (!dataTable) return;\n",
              "\n",
              "        const docLinkHtml = 'Like what you see? Visit the ' +\n",
              "          '<a target=\"_blank\" href=https://colab.research.google.com/notebooks/data_table.ipynb>data table notebook</a>'\n",
              "          + ' to learn more about interactive tables.';\n",
              "        element.innerHTML = '';\n",
              "        dataTable['output_type'] = 'display_data';\n",
              "        await google.colab.output.renderOutput(dataTable, element);\n",
              "        const docLink = document.createElement('div');\n",
              "        docLink.innerHTML = docLinkHtml;\n",
              "        element.appendChild(docLink);\n",
              "      }\n",
              "    </script>\n",
              "  </div>\n",
              "\n",
              "\n",
              "<div id=\"df-e0980d58-36ff-4157-b743-0b84b928f3e9\">\n",
              "  <button class=\"colab-df-quickchart\" onclick=\"quickchart('df-e0980d58-36ff-4157-b743-0b84b928f3e9')\"\n",
              "            title=\"Suggest charts\"\n",
              "            style=\"display:none;\">\n",
              "\n",
              "<svg xmlns=\"http://www.w3.org/2000/svg\" height=\"24px\"viewBox=\"0 0 24 24\"\n",
              "     width=\"24px\">\n",
              "    <g>\n",
              "        <path d=\"M19 3H5c-1.1 0-2 .9-2 2v14c0 1.1.9 2 2 2h14c1.1 0 2-.9 2-2V5c0-1.1-.9-2-2-2zM9 17H7v-7h2v7zm4 0h-2V7h2v10zm4 0h-2v-4h2v4z\"/>\n",
              "    </g>\n",
              "</svg>\n",
              "  </button>\n",
              "\n",
              "<style>\n",
              "  .colab-df-quickchart {\n",
              "      --bg-color: #E8F0FE;\n",
              "      --fill-color: #1967D2;\n",
              "      --hover-bg-color: #E2EBFA;\n",
              "      --hover-fill-color: #174EA6;\n",
              "      --disabled-fill-color: #AAA;\n",
              "      --disabled-bg-color: #DDD;\n",
              "  }\n",
              "\n",
              "  [theme=dark] .colab-df-quickchart {\n",
              "      --bg-color: #3B4455;\n",
              "      --fill-color: #D2E3FC;\n",
              "      --hover-bg-color: #434B5C;\n",
              "      --hover-fill-color: #FFFFFF;\n",
              "      --disabled-bg-color: #3B4455;\n",
              "      --disabled-fill-color: #666;\n",
              "  }\n",
              "\n",
              "  .colab-df-quickchart {\n",
              "    background-color: var(--bg-color);\n",
              "    border: none;\n",
              "    border-radius: 50%;\n",
              "    cursor: pointer;\n",
              "    display: none;\n",
              "    fill: var(--fill-color);\n",
              "    height: 32px;\n",
              "    padding: 0;\n",
              "    width: 32px;\n",
              "  }\n",
              "\n",
              "  .colab-df-quickchart:hover {\n",
              "    background-color: var(--hover-bg-color);\n",
              "    box-shadow: 0 1px 2px rgba(60, 64, 67, 0.3), 0 1px 3px 1px rgba(60, 64, 67, 0.15);\n",
              "    fill: var(--button-hover-fill-color);\n",
              "  }\n",
              "\n",
              "  .colab-df-quickchart-complete:disabled,\n",
              "  .colab-df-quickchart-complete:disabled:hover {\n",
              "    background-color: var(--disabled-bg-color);\n",
              "    fill: var(--disabled-fill-color);\n",
              "    box-shadow: none;\n",
              "  }\n",
              "\n",
              "  .colab-df-spinner {\n",
              "    border: 2px solid var(--fill-color);\n",
              "    border-color: transparent;\n",
              "    border-bottom-color: var(--fill-color);\n",
              "    animation:\n",
              "      spin 1s steps(1) infinite;\n",
              "  }\n",
              "\n",
              "  @keyframes spin {\n",
              "    0% {\n",
              "      border-color: transparent;\n",
              "      border-bottom-color: var(--fill-color);\n",
              "      border-left-color: var(--fill-color);\n",
              "    }\n",
              "    20% {\n",
              "      border-color: transparent;\n",
              "      border-left-color: var(--fill-color);\n",
              "      border-top-color: var(--fill-color);\n",
              "    }\n",
              "    30% {\n",
              "      border-color: transparent;\n",
              "      border-left-color: var(--fill-color);\n",
              "      border-top-color: var(--fill-color);\n",
              "      border-right-color: var(--fill-color);\n",
              "    }\n",
              "    40% {\n",
              "      border-color: transparent;\n",
              "      border-right-color: var(--fill-color);\n",
              "      border-top-color: var(--fill-color);\n",
              "    }\n",
              "    60% {\n",
              "      border-color: transparent;\n",
              "      border-right-color: var(--fill-color);\n",
              "    }\n",
              "    80% {\n",
              "      border-color: transparent;\n",
              "      border-right-color: var(--fill-color);\n",
              "      border-bottom-color: var(--fill-color);\n",
              "    }\n",
              "    90% {\n",
              "      border-color: transparent;\n",
              "      border-bottom-color: var(--fill-color);\n",
              "    }\n",
              "  }\n",
              "</style>\n",
              "\n",
              "  <script>\n",
              "    async function quickchart(key) {\n",
              "      const quickchartButtonEl =\n",
              "        document.querySelector('#' + key + ' button');\n",
              "      quickchartButtonEl.disabled = true;  // To prevent multiple clicks.\n",
              "      quickchartButtonEl.classList.add('colab-df-spinner');\n",
              "      try {\n",
              "        const charts = await google.colab.kernel.invokeFunction(\n",
              "            'suggestCharts', [key], {});\n",
              "      } catch (error) {\n",
              "        console.error('Error during call to suggestCharts:', error);\n",
              "      }\n",
              "      quickchartButtonEl.classList.remove('colab-df-spinner');\n",
              "      quickchartButtonEl.classList.add('colab-df-quickchart-complete');\n",
              "    }\n",
              "    (() => {\n",
              "      let quickchartButtonEl =\n",
              "        document.querySelector('#df-e0980d58-36ff-4157-b743-0b84b928f3e9 button');\n",
              "      quickchartButtonEl.style.display =\n",
              "        google.colab.kernel.accessAllowed ? 'block' : 'none';\n",
              "    })();\n",
              "  </script>\n",
              "</div>\n",
              "\n",
              "  <div id=\"id_dcd77fc5-0ec7-4604-a3c2-49b858ff2be4\">\n",
              "    <style>\n",
              "      .colab-df-generate {\n",
              "        background-color: #E8F0FE;\n",
              "        border: none;\n",
              "        border-radius: 50%;\n",
              "        cursor: pointer;\n",
              "        display: none;\n",
              "        fill: #1967D2;\n",
              "        height: 32px;\n",
              "        padding: 0 0 0 0;\n",
              "        width: 32px;\n",
              "      }\n",
              "\n",
              "      .colab-df-generate:hover {\n",
              "        background-color: #E2EBFA;\n",
              "        box-shadow: 0px 1px 2px rgba(60, 64, 67, 0.3), 0px 1px 3px 1px rgba(60, 64, 67, 0.15);\n",
              "        fill: #174EA6;\n",
              "      }\n",
              "\n",
              "      [theme=dark] .colab-df-generate {\n",
              "        background-color: #3B4455;\n",
              "        fill: #D2E3FC;\n",
              "      }\n",
              "\n",
              "      [theme=dark] .colab-df-generate:hover {\n",
              "        background-color: #434B5C;\n",
              "        box-shadow: 0px 1px 3px 1px rgba(0, 0, 0, 0.15);\n",
              "        filter: drop-shadow(0px 1px 2px rgba(0, 0, 0, 0.3));\n",
              "        fill: #FFFFFF;\n",
              "      }\n",
              "    </style>\n",
              "    <button class=\"colab-df-generate\" onclick=\"generateWithVariable('df')\"\n",
              "            title=\"Generate code using this dataframe.\"\n",
              "            style=\"display:none;\">\n",
              "\n",
              "  <svg xmlns=\"http://www.w3.org/2000/svg\" height=\"24px\"viewBox=\"0 0 24 24\"\n",
              "       width=\"24px\">\n",
              "    <path d=\"M7,19H8.4L18.45,9,17,7.55,7,17.6ZM5,21V16.75L18.45,3.32a2,2,0,0,1,2.83,0l1.4,1.43a1.91,1.91,0,0,1,.58,1.4,1.91,1.91,0,0,1-.58,1.4L9.25,21ZM18.45,9,17,7.55Zm-12,3A5.31,5.31,0,0,0,4.9,8.1,5.31,5.31,0,0,0,1,6.5,5.31,5.31,0,0,0,4.9,4.9,5.31,5.31,0,0,0,6.5,1,5.31,5.31,0,0,0,8.1,4.9,5.31,5.31,0,0,0,12,6.5,5.46,5.46,0,0,0,6.5,12Z\"/>\n",
              "  </svg>\n",
              "    </button>\n",
              "    <script>\n",
              "      (() => {\n",
              "      const buttonEl =\n",
              "        document.querySelector('#id_dcd77fc5-0ec7-4604-a3c2-49b858ff2be4 button.colab-df-generate');\n",
              "      buttonEl.style.display =\n",
              "        google.colab.kernel.accessAllowed ? 'block' : 'none';\n",
              "\n",
              "      buttonEl.onclick = () => {\n",
              "        google.colab.notebook.generateWithVariable('df');\n",
              "      }\n",
              "      })();\n",
              "    </script>\n",
              "  </div>\n",
              "\n",
              "    </div>\n",
              "  </div>\n"
            ],
            "application/vnd.google.colaboratory.intrinsic+json": {
              "type": "dataframe",
              "variable_name": "df",
              "summary": "{\n  \"name\": \"df\",\n  \"rows\": 4,\n  \"fields\": [\n    {\n      \"column\": \"Climate Type\",\n      \"properties\": {\n        \"dtype\": \"string\",\n        \"num_unique_values\": 4,\n        \"samples\": [\n          \"Midlatitude Summer\",\n          \"Midatlantic Winter\",\n          \"Tropical\"\n        ],\n        \"semantic_type\": \"\",\n        \"description\": \"\"\n      }\n    },\n    {\n      \"column\": \"r0\",\n      \"properties\": {\n        \"dtype\": \"number\",\n        \"std\": 0.034156502553198693,\n        \"min\": 0.95,\n        \"max\": 1.03,\n        \"num_unique_values\": 4,\n        \"samples\": [\n          0.97,\n          1.03,\n          0.95\n        ],\n        \"semantic_type\": \"\",\n        \"description\": \"\"\n      }\n    },\n    {\n      \"column\": \"r1\",\n      \"properties\": {\n        \"dtype\": \"number\",\n        \"std\": 0.012583057392117928,\n        \"min\": 0.98,\n        \"max\": 1.01,\n        \"num_unique_values\": 3,\n        \"samples\": [\n          0.98,\n          0.99,\n          1.01\n        ],\n        \"semantic_type\": \"\",\n        \"description\": \"\"\n      }\n    },\n    {\n      \"column\": \"rk\",\n      \"properties\": {\n        \"dtype\": \"number\",\n        \"std\": 0.00957427107756339,\n        \"min\": 1.0,\n        \"max\": 1.02,\n        \"num_unique_values\": 3,\n        \"samples\": [\n          1.02,\n          1.01,\n          1.0\n        ],\n        \"semantic_type\": \"\",\n        \"description\": \"\"\n      }\n    }\n  ]\n}"
            }
          },
          "metadata": {}
        }
      ]
    },
    {
      "cell_type": "code",
      "source": [
        "A = float(input('Altitude:\\n'))"
      ],
      "metadata": {
        "colab": {
          "base_uri": "https://localhost:8080/"
        },
        "id": "k2AmNDs7fJnr",
        "outputId": "1f997b8f-fdfb-4fbf-f50b-686b5e196cdb"
      },
      "execution_count": 2,
      "outputs": [
        {
          "name": "stdout",
          "output_type": "stream",
          "text": [
            "Altitude:\n",
            "0.987\n"
          ]
        }
      ]
    },
    {
      "cell_type": "code",
      "source": [
        "#Calculation of transmittance\n",
        "a0h = (0.4237 - 0.00821*(6-A)**2)\n",
        "a1h = (0.5055 + 0.00595*(6.5-A)**2)\n",
        "kh = (0.2711 + 0.01858*(2.5-A)**2)\n",
        "\n",
        "a="
      ],
      "metadata": {
        "id": "UmvN-s0hfRyj"
      },
      "execution_count": null,
      "outputs": []
    }
  ]
}